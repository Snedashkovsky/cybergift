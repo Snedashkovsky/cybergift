{
 "cells": [
  {
   "cell_type": "markdown",
   "source": [
    "## small gift for birthday\n",
    "\n",
    "dear friends!\n",
    "\n",
    "recently bostrom had his first birthday!\n",
    "\n",
    "since the main gift cannot be unlocked until we reach the goal, the cybercongress decided to make a small gift\n",
    "\n",
    "soon each citizen who claim the gift will receive 1A and 1V\n",
    "\n",
    "this will enable your contribution to the development of a bootloader for superintelligence right now\n",
    "\n",
    "we thank everyone for participating"
   ],
   "metadata": {
    "collapsed": false
   }
  },
  {
   "cell_type": "code",
   "execution_count": null,
   "outputs": [],
   "source": [
    "import pandas as pd\n",
    "import json\n",
    "import requests\n",
    "from tqdm import tqdm\n",
    "import base64\n",
    "import ast\n",
    "\n",
    "from cyber_sdk.core.bank import MsgMultiSend, MultiSendInput, MultiSendOutput\n",
    "from cyber_sdk.core import Coins\n",
    "from cyber_sdk.client.lcd.api.tx import CreateTxOptions, SignerOptions\n",
    "from cyber_sdk.core.fee import Fee\n",
    "from cyber_sdk.client.lcd import LCDClient\n",
    "from cyber_sdk.core.bech32 import AccAddress\n",
    "\n",
    "GRAPHQL_API = 'https://titan.cybernode.ai/graphql/v1/graphql'\n",
    "HEADERS = {\n",
    "    'content-type': 'application/json',\n",
    "    \"authorization\": ''\n",
    "}\n",
    "GET_TXS = False"
   ],
   "metadata": {
    "collapsed": false
   }
  },
  {
   "cell_type": "markdown",
   "source": [
    "### Get Transactions from GraphQL API"
   ],
   "metadata": {
    "collapsed": false
   }
  },
  {
   "cell_type": "code",
   "execution_count": 2,
   "outputs": [],
   "source": [
    "def run_graphql_query(query: str) -> list:\n",
    "    # A simple function to use requests.post to make the API call. Note the json= section.\n",
    "    request = requests.post(GRAPHQL_API, json={'query': query}, headers=HEADERS)\n",
    "    if request.status_code == 200:\n",
    "        return request.json()['data']['message']\n",
    "    else:\n",
    "        raise Exception(f'Query failed to run by returning code of {request.status_code}\\nquery: {query}')\n",
    "\n",
    "\n",
    "def parse_res(res: list) -> pd.DataFrame:\n",
    "    temp_list = []\n",
    "    for res_item in tqdm(res):\n",
    "        msg = ast.literal_eval(base64.b64decode(res_item['value']['msg']).decode(\"utf-8\"))\n",
    "        sender = res_item['value']['sender']\n",
    "        contract = res_item['value']['contract']\n",
    "        msg_type = res_item['type']\n",
    "        transaction_hash = res_item['transaction_hash']\n",
    "        height = res_item['transaction']['block']['height']\n",
    "        temp_list.append([height, transaction_hash, msg_type, sender, contract, msg])\n",
    "    return pd.DataFrame(temp_list, columns=['height', 'transaction_hash', 'type', 'sender', 'contract', 'msg'])"
   ],
   "metadata": {
    "collapsed": false
   }
  },
  {
   "cell_type": "code",
   "execution_count": 3,
   "outputs": [],
   "source": [
    "graphql_query = '''{\n",
    "  message(where: {type: {_eq: \"cosmwasm.wasm.v1.MsgExecuteContract\"}}) {\n",
    "    transaction_hash\n",
    "    type\n",
    "    value\n",
    "    transaction {\n",
    "      block {\n",
    "        height\n",
    "      }\n",
    "    }\n",
    "  }\n",
    "}'''\n",
    "\n",
    "if GET_TXS:\n",
    "    print('Getting data from GraphQL API')\n",
    "    graphql_res = run_graphql_query(query=graphql_query)\n",
    "    print('Parsing data')\n",
    "    contract_txs_df = parse_res(res=graphql_res)\n",
    "    contract_txs_df.to_csv('data/claim_parser.csv')"
   ],
   "metadata": {
    "collapsed": false
   }
  },
  {
   "cell_type": "markdown",
   "source": [
    "### Get Claims"
   ],
   "metadata": {
    "collapsed": false
   }
  },
  {
   "cell_type": "code",
   "execution_count": 4,
   "outputs": [
    {
     "data": {
      "text/plain": "   Unnamed: 0   height                                   transaction_hash  \\\n0           0  4278876  576816E54BE36F2C121DFDA06925FAAF6D4E0B1EF574E8...   \n1           1  4248054  55C21ED7760BACD35AFA24E72D81D12F1A1EF3565A1855...   \n2           2  4248063  A6B3AEA82FA5176BD1EE818E3BAA8F95CB10D9F0AB6974...   \n3           3  4248063  A6B3AEA82FA5176BD1EE818E3BAA8F95CB10D9F0AB6974...   \n4           4  4250355  ECA07FA8F573B9FB8BAD1EE4257E8AAEDA514FD2A6A927...   \n\n                                  type  \\\n0  cosmwasm.wasm.v1.MsgExecuteContract   \n1  cosmwasm.wasm.v1.MsgExecuteContract   \n2  cosmwasm.wasm.v1.MsgExecuteContract   \n3  cosmwasm.wasm.v1.MsgExecuteContract   \n4  cosmwasm.wasm.v1.MsgExecuteContract   \n\n                                           sender  \\\n0  bostrom1fd8kd7qkneye4y96slq8992r34lt0wfexd0e3t   \n1  bostrom1usrgyu7aul0pns4nltdwl2saxg67ckyl4npf0f   \n2  bostrom1usrgyu7aul0pns4nltdwl2saxg67ckyl4npf0f   \n3  bostrom1usrgyu7aul0pns4nltdwl2saxg67ckyl4npf0f   \n4  bostrom1734emz8rm2r54tf5gqj226dvv4phx95fnr5e9l   \n\n                                            contract  \\\n0  bostrom1xut80d09q0tgtch8p0z4k5f88d3uvt8cvtzm5h...   \n1  bostrom1xut80d09q0tgtch8p0z4k5f88d3uvt8cvtzm5h...   \n2  bostrom16t6tucgcqdmegye6c9ltlkr237z8yfndmasrhv...   \n3  bostrom16t6tucgcqdmegye6c9ltlkr237z8yfndmasrhv...   \n4  bostrom1xut80d09q0tgtch8p0z4k5f88d3uvt8cvtzm5h...   \n\n                                                 msg  \n0  {'create_passport': {'avatar': 'Qmcvsz4VezuUm8...  \n1  {'proof_address': {'address': 'osmo1sh992rngek...  \n2  {'claim': {'proof': ['5c26776d9f7a6a02a76998d2...  \n3  {'claim': {'proof': ['622694c857234e2161ed3c5e...  \n4  {'create_passport': {'avatar': 'QmW4NYSoQHn4Rj...  ",
      "text/html": "<div>\n<style scoped>\n    .dataframe tbody tr th:only-of-type {\n        vertical-align: middle;\n    }\n\n    .dataframe tbody tr th {\n        vertical-align: top;\n    }\n\n    .dataframe thead th {\n        text-align: right;\n    }\n</style>\n<table border=\"1\" class=\"dataframe\">\n  <thead>\n    <tr style=\"text-align: right;\">\n      <th></th>\n      <th>Unnamed: 0</th>\n      <th>height</th>\n      <th>transaction_hash</th>\n      <th>type</th>\n      <th>sender</th>\n      <th>contract</th>\n      <th>msg</th>\n    </tr>\n  </thead>\n  <tbody>\n    <tr>\n      <th>0</th>\n      <td>0</td>\n      <td>4278876</td>\n      <td>576816E54BE36F2C121DFDA06925FAAF6D4E0B1EF574E8...</td>\n      <td>cosmwasm.wasm.v1.MsgExecuteContract</td>\n      <td>bostrom1fd8kd7qkneye4y96slq8992r34lt0wfexd0e3t</td>\n      <td>bostrom1xut80d09q0tgtch8p0z4k5f88d3uvt8cvtzm5h...</td>\n      <td>{'create_passport': {'avatar': 'Qmcvsz4VezuUm8...</td>\n    </tr>\n    <tr>\n      <th>1</th>\n      <td>1</td>\n      <td>4248054</td>\n      <td>55C21ED7760BACD35AFA24E72D81D12F1A1EF3565A1855...</td>\n      <td>cosmwasm.wasm.v1.MsgExecuteContract</td>\n      <td>bostrom1usrgyu7aul0pns4nltdwl2saxg67ckyl4npf0f</td>\n      <td>bostrom1xut80d09q0tgtch8p0z4k5f88d3uvt8cvtzm5h...</td>\n      <td>{'proof_address': {'address': 'osmo1sh992rngek...</td>\n    </tr>\n    <tr>\n      <th>2</th>\n      <td>2</td>\n      <td>4248063</td>\n      <td>A6B3AEA82FA5176BD1EE818E3BAA8F95CB10D9F0AB6974...</td>\n      <td>cosmwasm.wasm.v1.MsgExecuteContract</td>\n      <td>bostrom1usrgyu7aul0pns4nltdwl2saxg67ckyl4npf0f</td>\n      <td>bostrom16t6tucgcqdmegye6c9ltlkr237z8yfndmasrhv...</td>\n      <td>{'claim': {'proof': ['5c26776d9f7a6a02a76998d2...</td>\n    </tr>\n    <tr>\n      <th>3</th>\n      <td>3</td>\n      <td>4248063</td>\n      <td>A6B3AEA82FA5176BD1EE818E3BAA8F95CB10D9F0AB6974...</td>\n      <td>cosmwasm.wasm.v1.MsgExecuteContract</td>\n      <td>bostrom1usrgyu7aul0pns4nltdwl2saxg67ckyl4npf0f</td>\n      <td>bostrom16t6tucgcqdmegye6c9ltlkr237z8yfndmasrhv...</td>\n      <td>{'claim': {'proof': ['622694c857234e2161ed3c5e...</td>\n    </tr>\n    <tr>\n      <th>4</th>\n      <td>4</td>\n      <td>4250355</td>\n      <td>ECA07FA8F573B9FB8BAD1EE4257E8AAEDA514FD2A6A927...</td>\n      <td>cosmwasm.wasm.v1.MsgExecuteContract</td>\n      <td>bostrom1734emz8rm2r54tf5gqj226dvv4phx95fnr5e9l</td>\n      <td>bostrom1xut80d09q0tgtch8p0z4k5f88d3uvt8cvtzm5h...</td>\n      <td>{'create_passport': {'avatar': 'QmW4NYSoQHn4Rj...</td>\n    </tr>\n  </tbody>\n</table>\n</div>"
     },
     "execution_count": 4,
     "metadata": {},
     "output_type": "execute_result"
    }
   ],
   "source": [
    "contract_txs_df = pd.read_csv('data/claim_parser.csv')\n",
    "contract_txs_df.head()"
   ],
   "metadata": {
    "collapsed": false
   }
  },
  {
   "cell_type": "code",
   "execution_count": 5,
   "outputs": [
    {
     "name": "stdout",
     "output_type": "stream",
     "text": [
      "Number of claims: 8,815\n",
      "Number of claiming addresses: 8,773\n",
      "Number of recipient: 5,777\n"
     ]
    },
    {
     "data": {
      "text/plain": "                                            sender  \\\n2   bostrom1usrgyu7aul0pns4nltdwl2saxg67ckyl4npf0f   \n3   bostrom1usrgyu7aul0pns4nltdwl2saxg67ckyl4npf0f   \n6   bostrom1734emz8rm2r54tf5gqj226dvv4phx95fnr5e9l   \n13  bostrom197azlmrp8wvz4446jfnxu605snegznl479dz78   \n15  bostrom1nu0mxv9egu2tg7d93nqmnl85jc957ksg62fmew   \n\n                                                  msg  \\\n2   {'claim': {'proof': ['5c26776d9f7a6a02a76998d2...   \n3   {'claim': {'proof': ['622694c857234e2161ed3c5e...   \n6   {'claim': {'proof': ['a27e99ac4dfcdc581d9d9380...   \n13  {'claim': {'proof': ['cad558f6f2b3a0bd3085c8a9...   \n15  {'claim': {'proof': ['19f71b0247bbdcb5dc3efc14...   \n\n                                             msg_json method_name  \\\n2   {'claim': {'proof': ['5c26776d9f7a6a02a76998d2...       claim   \n3   {'claim': {'proof': ['622694c857234e2161ed3c5e...       claim   \n6   {'claim': {'proof': ['a27e99ac4dfcdc581d9d9380...       claim   \n13  {'claim': {'proof': ['cad558f6f2b3a0bd3085c8a9...       claim   \n15  {'claim': {'proof': ['19f71b0247bbdcb5dc3efc14...       claim   \n\n       nickname                          gift_claiming_address  gift_amount  \n2    jimbosuson    osmo1usrgyu7aul0pns4nltdwl2saxg67ckyl7mx28u     91000000  \n3    jimbosuson  cosmos1usrgyu7aul0pns4nltdwl2saxg67ckylkq463w     91000000  \n6   theprofit93  cosmos1734emz8rm2r54tf5gqj226dvv4phx95fssq2mc     91000000  \n13    mauro2019  cosmos197azlmrp8wvz4446jfnxu605snegznl4ake3qq     91000000  \n15      sanka76    osmo1nu0mxv9egu2tg7d93nqmnl85jc957ksg3zwc3m     91000000  ",
      "text/html": "<div>\n<style scoped>\n    .dataframe tbody tr th:only-of-type {\n        vertical-align: middle;\n    }\n\n    .dataframe tbody tr th {\n        vertical-align: top;\n    }\n\n    .dataframe thead th {\n        text-align: right;\n    }\n</style>\n<table border=\"1\" class=\"dataframe\">\n  <thead>\n    <tr style=\"text-align: right;\">\n      <th></th>\n      <th>sender</th>\n      <th>msg</th>\n      <th>msg_json</th>\n      <th>method_name</th>\n      <th>nickname</th>\n      <th>gift_claiming_address</th>\n      <th>gift_amount</th>\n    </tr>\n  </thead>\n  <tbody>\n    <tr>\n      <th>2</th>\n      <td>bostrom1usrgyu7aul0pns4nltdwl2saxg67ckyl4npf0f</td>\n      <td>{'claim': {'proof': ['5c26776d9f7a6a02a76998d2...</td>\n      <td>{'claim': {'proof': ['5c26776d9f7a6a02a76998d2...</td>\n      <td>claim</td>\n      <td>jimbosuson</td>\n      <td>osmo1usrgyu7aul0pns4nltdwl2saxg67ckyl7mx28u</td>\n      <td>91000000</td>\n    </tr>\n    <tr>\n      <th>3</th>\n      <td>bostrom1usrgyu7aul0pns4nltdwl2saxg67ckyl4npf0f</td>\n      <td>{'claim': {'proof': ['622694c857234e2161ed3c5e...</td>\n      <td>{'claim': {'proof': ['622694c857234e2161ed3c5e...</td>\n      <td>claim</td>\n      <td>jimbosuson</td>\n      <td>cosmos1usrgyu7aul0pns4nltdwl2saxg67ckylkq463w</td>\n      <td>91000000</td>\n    </tr>\n    <tr>\n      <th>6</th>\n      <td>bostrom1734emz8rm2r54tf5gqj226dvv4phx95fnr5e9l</td>\n      <td>{'claim': {'proof': ['a27e99ac4dfcdc581d9d9380...</td>\n      <td>{'claim': {'proof': ['a27e99ac4dfcdc581d9d9380...</td>\n      <td>claim</td>\n      <td>theprofit93</td>\n      <td>cosmos1734emz8rm2r54tf5gqj226dvv4phx95fssq2mc</td>\n      <td>91000000</td>\n    </tr>\n    <tr>\n      <th>13</th>\n      <td>bostrom197azlmrp8wvz4446jfnxu605snegznl479dz78</td>\n      <td>{'claim': {'proof': ['cad558f6f2b3a0bd3085c8a9...</td>\n      <td>{'claim': {'proof': ['cad558f6f2b3a0bd3085c8a9...</td>\n      <td>claim</td>\n      <td>mauro2019</td>\n      <td>cosmos197azlmrp8wvz4446jfnxu605snegznl4ake3qq</td>\n      <td>91000000</td>\n    </tr>\n    <tr>\n      <th>15</th>\n      <td>bostrom1nu0mxv9egu2tg7d93nqmnl85jc957ksg62fmew</td>\n      <td>{'claim': {'proof': ['19f71b0247bbdcb5dc3efc14...</td>\n      <td>{'claim': {'proof': ['19f71b0247bbdcb5dc3efc14...</td>\n      <td>claim</td>\n      <td>sanka76</td>\n      <td>osmo1nu0mxv9egu2tg7d93nqmnl85jc957ksg3zwc3m</td>\n      <td>91000000</td>\n    </tr>\n  </tbody>\n</table>\n</div>"
     },
     "execution_count": 5,
     "metadata": {},
     "output_type": "execute_result"
    }
   ],
   "source": [
    "claim_txs_df =\n",
    "contract_txs_df[contract_txs_df.contract == 'bostrom16t6tucgcqdmegye6c9ltlkr237z8yfndmasrhvh7ucrfuqaev6xq7cpvek'][\n",
    "    ['sender', 'msg']]\n",
    "claim_txs_df.loc[:, 'msg_json'] = claim_txs_df.msg.map(lambda x: json.loads(x.replace(\"'\", '\"')))\n",
    "claim_txs_df.loc[:, 'method_name'] = claim_txs_df.msg_json.map(lambda x: list(x.keys())[0])\n",
    "claim_txs_df = claim_txs_df[claim_txs_df.method_name == 'claim']\n",
    "claim_txs_df.loc[:, 'nickname'] = claim_txs_df.msg_json.map(lambda x: x['claim']['nickname'])\n",
    "claim_txs_df.loc[:, 'gift_claiming_address'] = claim_txs_df.msg_json.map(lambda x: x['claim']['gift_claiming_address'])\n",
    "claim_txs_df.loc[:, 'gift_amount'] = claim_txs_df.msg_json.map(lambda x: int(x['claim']['gift_amount']))\n",
    "\n",
    "print(f'Number of claims: {len(claim_txs_df):>,}')\n",
    "print(f'Number of claiming addresses: {claim_txs_df.gift_claiming_address.nunique():>,}')\n",
    "print(f'Number of recipient: {claim_txs_df.sender.nunique():>,}')\n",
    "claim_txs_df.head()"
   ],
   "metadata": {
    "collapsed": false
   }
  },
  {
   "cell_type": "code",
   "execution_count": 6,
   "outputs": [
    {
     "data": {
      "text/plain": "                                           sender  gift_claiming_addresses\n0  bostrom100c867fxeu5dq6ht0flc7vf0rl65sfm7ap0cgd                        1\n1  bostrom100ga50dzpxu0u5uen77alrjy2l6ctrnuewvjz5                        1\n2  bostrom100lngazcuyx9s7retesv34e447jadtg94wdt4g                        2\n3  bostrom100n73at5pewz0cmfzhptztlns6r96xgtu4zhw4                        1\n4  bostrom100qk2f338dh0r6g3tyw9tnvlywnjquyest0lka                        1",
      "text/html": "<div>\n<style scoped>\n    .dataframe tbody tr th:only-of-type {\n        vertical-align: middle;\n    }\n\n    .dataframe tbody tr th {\n        vertical-align: top;\n    }\n\n    .dataframe thead th {\n        text-align: right;\n    }\n</style>\n<table border=\"1\" class=\"dataframe\">\n  <thead>\n    <tr style=\"text-align: right;\">\n      <th></th>\n      <th>sender</th>\n      <th>gift_claiming_addresses</th>\n    </tr>\n  </thead>\n  <tbody>\n    <tr>\n      <th>0</th>\n      <td>bostrom100c867fxeu5dq6ht0flc7vf0rl65sfm7ap0cgd</td>\n      <td>1</td>\n    </tr>\n    <tr>\n      <th>1</th>\n      <td>bostrom100ga50dzpxu0u5uen77alrjy2l6ctrnuewvjz5</td>\n      <td>1</td>\n    </tr>\n    <tr>\n      <th>2</th>\n      <td>bostrom100lngazcuyx9s7retesv34e447jadtg94wdt4g</td>\n      <td>2</td>\n    </tr>\n    <tr>\n      <th>3</th>\n      <td>bostrom100n73at5pewz0cmfzhptztlns6r96xgtu4zhw4</td>\n      <td>1</td>\n    </tr>\n    <tr>\n      <th>4</th>\n      <td>bostrom100qk2f338dh0r6g3tyw9tnvlywnjquyest0lka</td>\n      <td>1</td>\n    </tr>\n  </tbody>\n</table>\n</div>"
     },
     "execution_count": 6,
     "metadata": {},
     "output_type": "execute_result"
    }
   ],
   "source": [
    "gift_df = claim_txs_df.groupby('sender')['gift_claiming_address'].agg(pd.Series.nunique).reset_index().rename(\n",
    "    columns={'gift_claiming_address': 'gift_claiming_addresses'})\n",
    "gift_df.head()"
   ],
   "metadata": {
    "collapsed": false
   }
  },
  {
   "cell_type": "markdown",
   "source": [
    "### Create Sending Transactions"
   ],
   "metadata": {
    "collapsed": false
   }
  },
  {
   "cell_type": "code",
   "execution_count": 22,
   "outputs": [],
   "source": [
    "BOSTROM_CHAIN_ID = 'bostrom'\n",
    "BOSTROM_NODE_LCD_URL = 'https://lcd.bostrom.bronbro.io/'\n",
    "BOSTROM_LCD_CLIENT = LCDClient(chain_id=BOSTROM_CHAIN_ID, url=BOSTROM_NODE_LCD_URL)\n",
    "START_SEQUENCE = 0\n",
    "SENDINGS_PER_TX = 1_000\n",
    "SENDER_ADDRESS = 'bostrom1zvyccfq73sj8cny3lk7d68d8mk5hvzx4r6nrg3'\n",
    "\n",
    "for i in range(len(gift_df) // SENDINGS_PER_TX + 1):\n",
    "    multi_send_output_list = []\n",
    "    for _, gift_row in gift_df[i * SENDINGS_PER_TX:(i + 1) * SENDINGS_PER_TX].iterrows():\n",
    "        multi_send_output_list.append(\n",
    "            MultiSendOutput(\n",
    "                gift_row.sender,\n",
    "                Coins('{0}000millivolt,{0}000milliampere'.format(gift_row.gift_claiming_addresses))\n",
    "            )\n",
    "        )\n",
    "    multi_send_input_list = [\n",
    "        MultiSendInput(\n",
    "            AccAddress(SENDER_ADDRESS),\n",
    "            Coins('{0}000millivolt,{0}000milliampere'.format(\n",
    "                sum(gift_df[i * SENDINGS_PER_TX:(i + 1) * SENDINGS_PER_TX].gift_claiming_addresses)))\n",
    "        )\n",
    "    ]\n",
    "    tx = BOSTROM_LCD_CLIENT.tx.create(\n",
    "        signers=[SignerOptions(address=AccAddress(SENDER_ADDRESS))],\n",
    "        options=CreateTxOptions(\n",
    "            msgs=[MsgMultiSend(multi_send_input_list, multi_send_output_list)],\n",
    "            memo=\"https://cyb.ai/ipfs/QmUkpePsCX65RJzaZcX4fsdmMHfwKjcfHkv43dTcyWoS3Y\",\n",
    "            fee=Fee(24_000_000, Coins(\"240000boot\"))\n",
    "        ))\n",
    "    with open(f'txs/{START_SEQUENCE + i}_unsigned_giftav_{i}.json', 'w') as tx_file:\n",
    "        tx_file.write(json.dumps(tx.to_data()))"
   ],
   "metadata": {
    "collapsed": false
   }
  },
  {
   "cell_type": "code",
   "execution_count": null,
   "outputs": [],
   "source": [],
   "metadata": {
    "collapsed": false
   }
  }
 ],
 "metadata": {
  "kernelspec": {
   "display_name": "Python 3",
   "language": "python",
   "name": "python3"
  },
  "language_info": {
   "codemirror_mode": {
    "name": "ipython",
    "version": 2
   },
   "file_extension": ".py",
   "mimetype": "text/x-python",
   "name": "python",
   "nbconvert_exporter": "python",
   "pygments_lexer": "ipython2",
   "version": "2.7.6"
  }
 },
 "nbformat": 4,
 "nbformat_minor": 0
}
